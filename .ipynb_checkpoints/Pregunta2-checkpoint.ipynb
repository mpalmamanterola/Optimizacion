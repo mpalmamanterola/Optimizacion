{
 "cells": [
  {
   "cell_type": "markdown",
   "id": "4c475b90",
   "metadata": {},
   "source": [
    "## Pregunta 2\n",
    "**1.** Implemente el algoritmo de descenso del gradiente estocástico (SGD).\n",
    "\n",
    "**2.** Utilice su implementación de GD y de SGD para encontrar un punto optimal de la segunda\n",
    "función asignada a su grupo.\n",
    "\n",
    "**3.** Compare las soluciones obtenidas por cada algoritmo, y las diferencias en tiempo de ejecución\n",
    "de los mismos."
   ]
  },
  {
   "cell_type": "code",
   "execution_count": null,
   "id": "70864576",
   "metadata": {},
   "outputs": [],
   "source": [
    "# se calcula el gradiente para F2 de la forma grad=2*suma(-w3*tk*e^-tk*w1,w4*tk*e^-tk*w2,e^-tk*w1,e^-tkw2,-w6*tk*e^-tk*w5,e^-tk*w5)\n",
    "import numpy as np\n",
    "import math\n",
    "n=6\n",
    "m=10000\n",
    "\n",
    "def gradiente2(wk): \n",
    "    w1,w2,w3,w4,w5,w6=wk[0],wk[1],wk[2],wk[3],wk[4],wk[5]\n",
    "    grad2=np.zeros(n)\n",
    "\n",
    "    for i in range(0,m):\n",
    "        tk=0.1*(i+1)\n",
    "        grad2=grad2+[-w3*tk*math.exp(-w1*tk),w4*tk*math.exp(-tk*w2),math.exp(-tk*w1),math.exp(-tk*w2),-w6*tk*math.exp(-tk*w5),math.exp(-tk*w5)]\n",
    "    return 2*grad2"
   ]
  },
  {
   "cell_type": "code",
   "execution_count": null,
   "id": "60fff28a",
   "metadata": {},
   "outputs": [],
   "source": [
    "a1=[0,0,0,0,0,0]\n",
    "a2=[1,1,1,1,1,1]\n",
    "a3=[50,20,20,20,20,20]\n",
    "\n",
    "gradiente2(a1)"
   ]
  },
  {
   "cell_type": "code",
   "execution_count": null,
   "id": "fed67ed0",
   "metadata": {},
   "outputs": [],
   "source": []
  }
 ],
 "metadata": {
  "kernelspec": {
   "display_name": "Python 3",
   "language": "python",
   "name": "python3"
  },
  "language_info": {
   "codemirror_mode": {
    "name": "ipython",
    "version": 3
   },
   "file_extension": ".py",
   "mimetype": "text/x-python",
   "name": "python",
   "nbconvert_exporter": "python",
   "pygments_lexer": "ipython3",
   "version": "3.8.8"
  }
 },
 "nbformat": 4,
 "nbformat_minor": 5
}
