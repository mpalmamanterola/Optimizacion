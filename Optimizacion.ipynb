{
 "cells": [
  {
   "cell_type": "markdown",
   "metadata": {},
   "source": [
    "<center>\n",
    "    \n",
    "#   Tarea Optimización\n",
    "### Universidad de la Frontera\n",
    "### Minor de Análisis de Datos\n",
    "\n",
    "#### Juan Aedo, Matías Palma, Gustavo Soto, José Bustamante, Lucas Williamson"
   ]
  },
  {
   "cell_type": "markdown",
   "metadata": {},
   "source": [
    "#### Función 1\n",
    "$$n=10, m=n+2 $$\n",
    "\n",
    "$$f_k(w)=w_k-1,~~k=1,\\cdots, n $$\n",
    "\n",
    "$$f_{n+1}(w)=\\sum_{k=1}^n k(w_k-1) $$\n",
    "\n",
    "$$f_{n+2}(w)=\\left(\\sum_{k=1}^n k(w_k-1) \\right)^2$$"
   ]
  },
  {
   "cell_type": "markdown",
   "metadata": {},
   "source": [
    "#### Función 2\n",
    "$$n=6, m= 10000$$\n",
    "\n",
    "$$f_k(w)=w_3e^{-t_kw_1}-w_4e^{-t_kw_2}+w_6e^{-t_kw_5}-y_k, k=1,\\cdots,m$$\n",
    "\n",
    "$$t_k=0.1k,~y_k=e{-t_k}-5e^{-10t_k}+3e^{-4t_k}, k=1,\\cdots,m$$"
   ]
  },
  {
   "cell_type": "markdown",
   "metadata": {},
   "source": [
    "#### Pregunta 1"
   ]
  },
  {
   "cell_type": "markdown",
   "metadata": {},
   "source": [
    "1. Implemente el algoritmo de descenso del gradiente\n",
    "2. Utilice su implementacion del GD para encontrar un punto optimal de la primera función asignada a su grupo \n",
    "3. Compare los resultados utilizando distintos puntos iniciales, y estime cuántas iteraciones necesita el algorimto para mejorar su resultado en un factor de 0.1"
   ]
  },
  {
   "cell_type": "code",
   "execution_count": 1,
   "metadata": {},
   "outputs": [],
   "source": [
    "n = 10\n",
    "m = n+2"
   ]
  },
  {
   "cell_type": "code",
   "execution_count": 72,
   "metadata": {},
   "outputs": [],
   "source": [
    "import numpy as np\n",
    "\n",
    "def f(w,k):\n",
    "    if len(w) != n:\n",
    "        return('Error de dimensión')\n",
    "        \n",
    "    if k > m:\n",
    "        return('Error de función, no existe f_'+str(k))\n",
    "        \n",
    "    if k < (n+1):\n",
    "        return (w[k-1]-1)\n",
    "        \n",
    "    elif k == n+1:\n",
    "        return (np.sum([i*(w[i-1]-1) for i in range(1,n+1)]))\n",
    "        \n",
    "    elif k == n+2:\n",
    "        return (np.sum([(i*(w[i-1]-1))**2 for i in range(1,n+1)]))\n",
    "\n",
    "def F(w):\n",
    "    suma = sum([f(w,k)**2 for k in range(1,m+1)])\n",
    "    return suma"
   ]
  },
  {
   "cell_type": "code",
   "execution_count": 73,
   "metadata": {},
   "outputs": [
    {
     "data": {
      "text/plain": [
       "10"
      ]
     },
     "execution_count": 73,
     "metadata": {},
     "output_type": "execute_result"
    }
   ],
   "source": [
    "w=[1,2,3,1,1,1,1,1,1,1]\n",
    "len(w)"
   ]
  },
  {
   "cell_type": "code",
   "execution_count": 74,
   "metadata": {},
   "outputs": [
    {
     "data": {
      "text/plain": [
       "1669"
      ]
     },
     "execution_count": 74,
     "metadata": {},
     "output_type": "execute_result"
    }
   ],
   "source": [
    "F(w)"
   ]
  },
  {
   "cell_type": "code",
   "execution_count": null,
   "metadata": {},
   "outputs": [],
   "source": []
  }
 ],
 "metadata": {
  "kernelspec": {
   "display_name": "Python 3",
   "language": "python",
   "name": "python3"
  },
  "language_info": {
   "codemirror_mode": {
    "name": "ipython",
    "version": 3
   },
   "file_extension": ".py",
   "mimetype": "text/x-python",
   "name": "python",
   "nbconvert_exporter": "python",
   "pygments_lexer": "ipython3",
   "version": "3.8.3"
  }
 },
 "nbformat": 4,
 "nbformat_minor": 4
}
