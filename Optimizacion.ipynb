{
 "cells": [
  {
   "cell_type": "markdown",
   "metadata": {},
   "source": [
    "<center>\n",
    "    \n",
    "#   Tarea Optimización\n",
    "### Universidad de la Frontera\n",
    "### Minor de Análisis de Datos\n",
    "\n",
    "#### Juan Aedo, Matías Palma, Gustavo Soto, José Bustamante, Lucas Williamson"
   ]
  },
  {
   "cell_type": "markdown",
   "metadata": {},
   "source": [
    "#### Función 1\n",
    "$$n=10, m=n+2 $$\n",
    "\n",
    "$$f_k(w)=w_k-1,~~k=1,\\cdots, n $$\n",
    "\n",
    "$$f_{n+1}(w)=\\sum_{k=1}^n k(w_k-1) $$\n",
    "\n",
    "$$f_{n+2}(w)=\\left(\\sum_{k=1}^n k(w_k-1) \\right)^2$$"
   ]
  },
  {
   "cell_type": "markdown",
   "metadata": {},
   "source": [
    "#### Función 2\n",
    "$$n=6, m= 10000$$\n",
    "\n",
    "$$f_k(w)=w_3e^{-t_kw_1}-w_4e^{-t_kw_2}+w_6e^{-t_kw_5}-y_k, k=1,\\cdots,m$$\n",
    "\n",
    "$$t_k=0.1k,~y_k=e{-t_k}-5e^{-10t_k}+3e^{-4t_k}, k=1,\\cdots,m$$"
   ]
  },
  {
   "cell_type": "markdown",
   "metadata": {},
   "source": [
    "#### Pregunta 1"
   ]
  },
  {
   "cell_type": "code",
   "execution_count": null,
   "metadata": {},
   "outputs": [],
   "source": []
  },
  {
   "cell_type": "code",
   "execution_count": null,
   "metadata": {},
   "outputs": [],
   "source": []
  }
 ],
 "metadata": {
  "kernelspec": {
   "display_name": "Python 3",
   "language": "python",
   "name": "python3"
  },
  "language_info": {
   "codemirror_mode": {
    "name": "ipython",
    "version": 3
   },
   "file_extension": ".py",
   "mimetype": "text/x-python",
   "name": "python",
   "nbconvert_exporter": "python",
   "pygments_lexer": "ipython3",
   "version": "3.8.3"
  }
 },
 "nbformat": 4,
 "nbformat_minor": 4
}
