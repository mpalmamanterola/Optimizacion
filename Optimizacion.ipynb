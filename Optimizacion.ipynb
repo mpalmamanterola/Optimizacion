{
 "cells": [
  {
   "cell_type": "markdown",
   "metadata": {},
   "source": [
    "<center>\n",
    "    \n",
    "#   Tarea Optimización\n",
    "### Universidad de la Frontera\n",
    "### Minor de Análisis de Datos\n",
    "\n",
    "#### Juan Aedo, Matías Palma, Gustavo Soto, José Bustamante, Lucas Williamson"
   ]
  },
  {
   "cell_type": "markdown",
   "metadata": {},
   "source": [
    "#### Función 1\n",
    "$$n=10, m=n+2 $$\n",
    "\n",
    "$$f_k(w)=w_k-1,~~k=1,\\cdots, n $$\n",
    "\n",
    "$$f_{n+1}(w)=\\sum_{k=1}^n k(w_k-1) $$\n",
    "\n",
    "$$f_{n+2}(w)=\\left(\\sum_{k=1}^n k(w_k-1) \\right)^2$$"
   ]
  },
  {
   "cell_type": "markdown",
   "metadata": {},
   "source": [
    "#### Función 2\n",
    "$$n=6, m= 10000$$\n",
    "\n",
    "$$f_k(w)=w_3e^{-t_kw_1}-w_4e^{-t_kw_2}+w_6e^{-t_kw_5}-y_k, k=1,\\cdots,m$$\n",
    "\n",
    "$$t_k=0.1k,~y_k=e^{-t_k}-5e^{-10t_k}+3e^{-4t_k}, k=1,\\cdots,m$$"
   ]
  },
  {
   "cell_type": "markdown",
   "metadata": {},
   "source": [
    "#### Pregunta 1"
   ]
  },
  {
   "cell_type": "markdown",
   "metadata": {},
   "source": [
    "1. Implemente el algoritmo de descenso del gradiente\n",
    "2. Utilice su implementacion del GD para encontrar un punto optimal de la primera función asignada a su grupo \n",
    "3. Compare los resultados utilizando distintos puntos iniciales, y estime cuántas iteraciones necesita el algorimto para mejorar su resultado en un factor de 0.1"
   ]
  },
  {
   "cell_type": "code",
   "execution_count": null,
   "metadata": {},
   "outputs": [],
   "source": [
    "n1 = 10\n",
    "m1 = n1+2"
   ]
  },
  {
   "cell_type": "code",
   "execution_count": null,
   "metadata": {},
   "outputs": [],
   "source": [
    "import numpy as np\n",
    "\n",
    "def f1(w,k):\n",
    "    if len(w) != n1:\n",
    "        return('Error de dimensión')\n",
    "        \n",
    "    if k > m1:\n",
    "        return('Error de función, no existe f_'+str(k))\n",
    "        \n",
    "    if k < (n1+1):\n",
    "        return (w[k-1]-1)\n",
    "        \n",
    "    elif k == n1+1:\n",
    "        return (np.sum([i*(w[i-1]-1) for i in range(1,n1+1)]))\n",
    "        \n",
    "    elif k == n1+2:\n",
    "        return (np.sum([(i*(w[i-1]-1))**2 for i in range(1,n1+1)]))\n",
    "\n",
    "def F1(w):\n",
    "    suma = sum([f1(w,k)**2 for k in range(1,m1+1)])\n",
    "    return suma"
   ]
  },
  {
   "cell_type": "code",
   "execution_count": null,
   "metadata": {},
   "outputs": [],
   "source": [
    "w0=np.array([0,0,0,0,0,0,0,0,0,0])\n",
    "len(w0)"
   ]
  },
  {
   "cell_type": "code",
   "execution_count": null,
   "metadata": {},
   "outputs": [],
   "source": [
    "n2 = 6\n",
    "m2 = 1000"
   ]
  },
  {
   "cell_type": "code",
   "execution_count": null,
   "metadata": {},
   "outputs": [],
   "source": [
    "def f2(w,k):   \n",
    "    if len(w) != n2:\n",
    "        return('Error de dimensión')\n",
    "    \n",
    "    if k <= m2:\n",
    "        t = k*0.1\n",
    "        y = np.exp(-t)-5*np.exp(-10*t)+3*np.exp(-4*t)\n",
    "        \n",
    "        return(w[3] * np.exp(-t * w[0]) - w[3] * np.exp(-t * w[1]) + w[5] * np.exp(-t * w[4]) - y)\n",
    "\n",
    "def F2(w):\n",
    "    suma = sum([f2(w,k)**2 for k in range(1,m2+1)])\n",
    "    return suma"
   ]
  },
  {
   "cell_type": "code",
   "execution_count": null,
   "metadata": {},
   "outputs": [],
   "source": [
    "w1 = [1,2,3,1,1,1,1,1,1,1]\n",
    "w2 = [1,2,3,4,5,6]\n",
    "len(w1),len(w2)"
   ]
  },
  {
   "cell_type": "code",
   "execution_count": null,
   "metadata": {},
   "outputs": [],
   "source": [
    "F2(w2)"
   ]
  },
  {
   "cell_type": "code",
   "execution_count": null,
   "metadata": {},
   "outputs": [],
   "source": [
    "F1(w1)"
   ]
  },
  {
   "cell_type": "code",
   "execution_count": null,
   "metadata": {},
   "outputs": [],
   "source": [
    "def grad1(wk):\n",
    "    # se calculo el gradiente que es de la forma gra_k = wk-2+3*k\n",
    "    grad=np.zeros(len(wk))\n",
    "    for i in range(0,len(wk)):\n",
    "        grad[i]=wk[i]-2+3*(i+1)\n",
    "    return grad"
   ]
  },
  {
   "cell_type": "code",
   "execution_count": null,
   "metadata": {},
   "outputs": [],
   "source": [
    "s=grad1(w1)\n",
    "s"
   ]
  },
  {
   "cell_type": "code",
   "execution_count": null,
   "metadata": {},
   "outputs": [],
   "source": [
    "#codigo lucas\n",
    "def gradiente1(wk): # se calcula el gradiente de la forma grad=(2wk-2)+2(suma(k(wk-1)))k+4(suma(k(wk-1))^3)k\n",
    "    grad=np.zeros(len(wk))\n",
    "    for i in range(0,len(wk)):\n",
    "        grad[i]=(2*wk[i]-2)+2*sum([(i+1)*(wk[i]-1)])*(i+1)+4*((sum([(i+1)*(wk[i]-1)]))**3)*(i+1)\n",
    "    return grad"
   ]
  },
  {
   "cell_type": "code",
   "execution_count": null,
   "metadata": {
    "scrolled": false
   },
   "outputs": [],
   "source": [
    "gradiente1(w0)"
   ]
  },
  {
   "cell_type": "code",
   "execution_count": null,
   "metadata": {},
   "outputs": [],
   "source": [
    "#metodo gradiente\n",
    "#de la forma w_k+1=w_k-a*grad(F(w_k))\n",
    "def metodo_grad(wk,a):\n",
    "    cont=0\n",
    "    while cont<20:\n",
    "        wk=np.zeros(len(wk))\n",
    "        for i in range(0,len(wk)):\n",
    "            wk[i+1]=wk[i]-a*gradiente1(wk[i])\n",
    "        #error=wk[i+1]-wk[i]\n",
    "        cont=cont+1\n",
    "        return print(wk[i+1])\n",
    "                    "
   ]
  },
  {
   "cell_type": "code",
   "execution_count": null,
   "metadata": {},
   "outputs": [],
   "source": [
    "metodo_grad(w1,0.001)"
   ]
  }
 ],
 "metadata": {
  "kernelspec": {
   "display_name": "Python 3",
   "language": "python",
   "name": "python3"
  },
  "language_info": {
   "codemirror_mode": {
    "name": "ipython",
    "version": 3
   },
   "file_extension": ".py",
   "mimetype": "text/x-python",
   "name": "python",
   "nbconvert_exporter": "python",
   "pygments_lexer": "ipython3",
   "version": "3.8.8"
  }
 },
 "nbformat": 4,
 "nbformat_minor": 4
}
