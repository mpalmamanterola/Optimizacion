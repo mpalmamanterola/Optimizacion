{
 "cells": [
  {
   "cell_type": "markdown",
   "metadata": {},
   "source": [
    "<center>\n",
    "    \n",
    "#   Optimización para Machine learning\n",
    "### Universidad de la Frontera\n",
    "### Facultad de Ingeniería y ciencias aplicadas\n",
    "### Minor de Análisis de Datos\n",
    "\n",
    "#### Juan Aedo, Matías Palma, Gustavo Soto, José Bustamante, Lucas Williamson"
   ]
  },
  {
   "cell_type": "markdown",
   "metadata": {},
   "source": [
    "#### Función 2\n",
    "$$n=6, m= 10000$$\n",
    "\n",
    "$$f_k(w)=w_3e^{-t_kw_1}-w_4e^{-t_kw_2}+w_6e^{-t_kw_5}-y_k, k=1,\\cdots,m$$\n",
    "\n",
    "$$t_k=0.1k,~y_k=e^{-t_k}-5e^{-10t_k}+3e^{-4t_k}, k=1,\\cdots,m$$"
   ]
  },
  {
   "cell_type": "markdown",
   "metadata": {},
   "source": [
    "#### Pregunta 2\n",
    "1. Implemente el algoritmo de descenso del gradiente estocástico (SGD).\n",
    "\n",
    "2. Utilice su implementación de GD y de SGD para encontrar un punto optimal de la segunda función asignada a su grupo.\n",
    "\n",
    "3. Compare las soluciones obtenidas por cada algoritmo, y las diferencias en tiempo de ejecución de los mismos."
   ]
  },
  {
   "cell_type": "markdown",
   "metadata": {},
   "source": [
    "Se calcula el gradiente para $F_2$ de la forma \n",
    "  \n",
    "$$\\nabla F_2(w)_k= 2\\left( -w_3 t_k e^{-t_kw_1}+w_4t_k e^{-t_k w_2}+e^{-t_k w_1}+e^{t_kw_2}-w_6 t_k e^{-t_k w_5}+e^{-t_k w_5}\\right)$$"
   ]
  },
  {
   "cell_type": "code",
   "execution_count": 2,
   "metadata": {},
   "outputs": [],
   "source": [
    "import numpy as np\n",
    "n2 = 6\n",
    "m2 = 1000\n",
    "def f2(w,k):   \n",
    "    if len(w) != n2:\n",
    "        return('Error de dimensión')\n",
    "    \n",
    "    if k <= m2:\n",
    "        t = k*0.1\n",
    "        y = np.exp(-t)-5*np.exp(-10*t)+3*np.exp(-4*t)\n",
    "        \n",
    "        return(w[2]*np.exp(-t * w[0])-w[3]*np.exp(-t*w[1])+w[5]*np.exp(-t *w[4])-y)\n",
    "\n",
    "def F2(w):\n",
    "    suma = sum([f2(w,k)**2 for k in range(1,m2+1)])\n",
    "    return suma"
   ]
  },
  {
   "cell_type": "code",
   "execution_count": 3,
   "metadata": {},
   "outputs": [],
   "source": [
    "def gradiente2(w):\n",
    "    grad=np.zeros(6)\n",
    "    gradF=0\n",
    "    for i in range(0,10000):\n",
    "        fk=0\n",
    "        tk=0.1*(i+1)\n",
    "        yk=np.exp(-tk)-5*np.exp(-10*tk)+3*np.exp(-4*tk)\n",
    "        fk=0+(w[2]*np.exp(-tk*w[0])-w[3]*np.exp(-tk*w[1])+w[5]*np.exp(-tk*w[4])-yk)\n",
    "        grad[0]=-w[2]*tk*np.exp(-tk*w[0])\n",
    "        grad[1]=w[3]*tk*np.exp(-tk*w[1])\n",
    "        grad[2]=np.exp(-tk*w[0])\n",
    "        grad[3]=-np.exp(-tk*w[1])\n",
    "        grad[4]=np.exp(-tk*w[4])\n",
    "        grad[5]=-w[5]*tk*np.exp(-tk*w[4])\n",
    "        gradF=gradF+grad*fk\n",
    "    return gradF"
   ]
  },
  {
   "cell_type": "markdown",
   "metadata": {},
   "source": [
    "#### Método del descenso del gradiente\n",
    "De la forma\n",
    "$$w_{k+1} = w_k-\\alpha \\nabla F(w_k) $$"
   ]
  },
  {
   "cell_type": "code",
   "execution_count": 4,
   "metadata": {},
   "outputs": [],
   "source": [
    "def metodo_grad2(wk,a):\n",
    "    cont=0\n",
    "    gnorm=1\n",
    "    epsilon=0.003\n",
    "    while gnorm>epsilon:\n",
    "        wk=wk-a*gradiente2(wk)\n",
    "        gnorm=np.linalg.norm(gradiente2(wk))\n",
    "        cont=cont+1\n",
    "        print(\"norma=\",gnorm)\n",
    "        print(\"funcion=\",F2(wk))\n",
    "    print(\"Termino el metodo\")\n",
    "    print(\"en la iteracion = \",cont)\n",
    "    print(\"con funcion resultado\", F2(wk))\n",
    "    return wk\n",
    "                "
   ]
  },
  {
   "cell_type": "code",
   "execution_count": 5,
   "metadata": {},
   "outputs": [
    {
     "name": "stdout",
     "output_type": "stream",
     "text": [
      "norma= 3.042140568711262\n",
      "funcion= 1.5871369187096875\n",
      "norma= 2.237830648626493\n",
      "funcion= 1.0300823424959002\n",
      "norma= 1.5654717375994331\n",
      "funcion= 0.7249496773444005\n",
      "norma= 1.0848629489184343\n",
      "funcion= 0.5819043462127559\n",
      "norma= 0.8015135482875783\n",
      "funcion= 0.5172446486192392\n",
      "norma= 0.6510867132180578\n",
      "funcion= 0.48259775989768705\n",
      "norma= 0.5650195981105026\n",
      "funcion= 0.45894031896373205\n",
      "norma= 0.5065490291479575\n",
      "funcion= 0.4403081163972003\n",
      "norma= 0.4609735429737569\n",
      "funcion= 0.42481777384968966\n",
      "norma= 0.4226446137574264\n",
      "funcion= 0.4116958396097184\n",
      "norma= 0.3891602039025239\n",
      "funcion= 0.40049339929142086\n",
      "norma= 0.3593273799922645\n",
      "funcion= 0.3908869507518877\n"
     ]
    },
    {
     "ename": "KeyboardInterrupt",
     "evalue": "",
     "output_type": "error",
     "traceback": [
      "\u001b[1;31m---------------------------------------------------------------------------\u001b[0m",
      "\u001b[1;31mKeyboardInterrupt\u001b[0m                         Traceback (most recent call last)",
      "\u001b[1;32m~\\AppData\\Local\\Temp/ipykernel_1472/407695160.py\u001b[0m in \u001b[0;36m<module>\u001b[1;34m\u001b[0m\n\u001b[0;32m      1\u001b[0m \u001b[0mw\u001b[0m\u001b[1;33m=\u001b[0m\u001b[0mnp\u001b[0m\u001b[1;33m.\u001b[0m\u001b[0marray\u001b[0m\u001b[1;33m(\u001b[0m\u001b[1;33m[\u001b[0m\u001b[1;36m1\u001b[0m\u001b[1;33m,\u001b[0m\u001b[1;36m0\u001b[0m\u001b[1;33m,\u001b[0m\u001b[1;36m0\u001b[0m\u001b[1;33m,\u001b[0m\u001b[1;36m1\u001b[0m\u001b[1;33m,\u001b[0m\u001b[1;36m1\u001b[0m\u001b[1;33m,\u001b[0m\u001b[1;36m1\u001b[0m\u001b[1;33m]\u001b[0m\u001b[1;33m)\u001b[0m\u001b[1;33m\u001b[0m\u001b[1;33m\u001b[0m\u001b[0m\n\u001b[0;32m      2\u001b[0m \u001b[0mgradiente2\u001b[0m\u001b[1;33m(\u001b[0m\u001b[0mw\u001b[0m\u001b[1;33m)\u001b[0m\u001b[1;33m\u001b[0m\u001b[1;33m\u001b[0m\u001b[0m\n\u001b[1;32m----> 3\u001b[1;33m \u001b[0mwz\u001b[0m\u001b[1;33m=\u001b[0m\u001b[0mmetodo_grad2\u001b[0m\u001b[1;33m(\u001b[0m\u001b[0mw\u001b[0m\u001b[1;33m,\u001b[0m\u001b[1;36m0.06\u001b[0m\u001b[1;33m)\u001b[0m\u001b[1;33m\u001b[0m\u001b[1;33m\u001b[0m\u001b[0m\n\u001b[0m",
      "\u001b[1;32m~\\AppData\\Local\\Temp/ipykernel_1472/3431693357.py\u001b[0m in \u001b[0;36mmetodo_grad2\u001b[1;34m(wk, a)\u001b[0m\n\u001b[0;32m      7\u001b[0m     \u001b[1;32mwhile\u001b[0m \u001b[0mgnorm\u001b[0m\u001b[1;33m>\u001b[0m\u001b[0mepsilon\u001b[0m\u001b[1;33m:\u001b[0m\u001b[1;33m\u001b[0m\u001b[1;33m\u001b[0m\u001b[0m\n\u001b[0;32m      8\u001b[0m         \u001b[0mwk\u001b[0m\u001b[1;33m=\u001b[0m\u001b[0mwk\u001b[0m\u001b[1;33m-\u001b[0m\u001b[0ma\u001b[0m\u001b[1;33m*\u001b[0m\u001b[0mgradiente2\u001b[0m\u001b[1;33m(\u001b[0m\u001b[0mwk\u001b[0m\u001b[1;33m)\u001b[0m\u001b[1;33m\u001b[0m\u001b[1;33m\u001b[0m\u001b[0m\n\u001b[1;32m----> 9\u001b[1;33m         \u001b[0mgnorm\u001b[0m\u001b[1;33m=\u001b[0m\u001b[0mnp\u001b[0m\u001b[1;33m.\u001b[0m\u001b[0mlinalg\u001b[0m\u001b[1;33m.\u001b[0m\u001b[0mnorm\u001b[0m\u001b[1;33m(\u001b[0m\u001b[0mgradiente2\u001b[0m\u001b[1;33m(\u001b[0m\u001b[0mwk\u001b[0m\u001b[1;33m)\u001b[0m\u001b[1;33m)\u001b[0m\u001b[1;33m\u001b[0m\u001b[1;33m\u001b[0m\u001b[0m\n\u001b[0m\u001b[0;32m     10\u001b[0m         \u001b[0mcont\u001b[0m\u001b[1;33m=\u001b[0m\u001b[0mcont\u001b[0m\u001b[1;33m+\u001b[0m\u001b[1;36m1\u001b[0m\u001b[1;33m\u001b[0m\u001b[1;33m\u001b[0m\u001b[0m\n\u001b[0;32m     11\u001b[0m         \u001b[0mprint\u001b[0m\u001b[1;33m(\u001b[0m\u001b[1;34m\"norma=\"\u001b[0m\u001b[1;33m,\u001b[0m\u001b[0mgnorm\u001b[0m\u001b[1;33m)\u001b[0m\u001b[1;33m\u001b[0m\u001b[1;33m\u001b[0m\u001b[0m\n",
      "\u001b[1;32m~\\AppData\\Local\\Temp/ipykernel_1472/1299261576.py\u001b[0m in \u001b[0;36mgradiente2\u001b[1;34m(w)\u001b[0m\n\u001b[0;32m     11\u001b[0m         \u001b[0mgrad\u001b[0m\u001b[1;33m[\u001b[0m\u001b[1;36m2\u001b[0m\u001b[1;33m]\u001b[0m\u001b[1;33m=\u001b[0m\u001b[0mnp\u001b[0m\u001b[1;33m.\u001b[0m\u001b[0mexp\u001b[0m\u001b[1;33m(\u001b[0m\u001b[1;33m-\u001b[0m\u001b[0mtk\u001b[0m\u001b[1;33m*\u001b[0m\u001b[0mw\u001b[0m\u001b[1;33m[\u001b[0m\u001b[1;36m0\u001b[0m\u001b[1;33m]\u001b[0m\u001b[1;33m)\u001b[0m\u001b[1;33m\u001b[0m\u001b[1;33m\u001b[0m\u001b[0m\n\u001b[0;32m     12\u001b[0m         \u001b[0mgrad\u001b[0m\u001b[1;33m[\u001b[0m\u001b[1;36m3\u001b[0m\u001b[1;33m]\u001b[0m\u001b[1;33m=\u001b[0m\u001b[1;33m-\u001b[0m\u001b[0mnp\u001b[0m\u001b[1;33m.\u001b[0m\u001b[0mexp\u001b[0m\u001b[1;33m(\u001b[0m\u001b[1;33m-\u001b[0m\u001b[0mtk\u001b[0m\u001b[1;33m*\u001b[0m\u001b[0mw\u001b[0m\u001b[1;33m[\u001b[0m\u001b[1;36m1\u001b[0m\u001b[1;33m]\u001b[0m\u001b[1;33m)\u001b[0m\u001b[1;33m\u001b[0m\u001b[1;33m\u001b[0m\u001b[0m\n\u001b[1;32m---> 13\u001b[1;33m         \u001b[0mgrad\u001b[0m\u001b[1;33m[\u001b[0m\u001b[1;36m4\u001b[0m\u001b[1;33m]\u001b[0m\u001b[1;33m=\u001b[0m\u001b[0mnp\u001b[0m\u001b[1;33m.\u001b[0m\u001b[0mexp\u001b[0m\u001b[1;33m(\u001b[0m\u001b[1;33m-\u001b[0m\u001b[0mtk\u001b[0m\u001b[1;33m*\u001b[0m\u001b[0mw\u001b[0m\u001b[1;33m[\u001b[0m\u001b[1;36m4\u001b[0m\u001b[1;33m]\u001b[0m\u001b[1;33m)\u001b[0m\u001b[1;33m\u001b[0m\u001b[1;33m\u001b[0m\u001b[0m\n\u001b[0m\u001b[0;32m     14\u001b[0m         \u001b[0mgrad\u001b[0m\u001b[1;33m[\u001b[0m\u001b[1;36m5\u001b[0m\u001b[1;33m]\u001b[0m\u001b[1;33m=\u001b[0m\u001b[1;33m-\u001b[0m\u001b[0mw\u001b[0m\u001b[1;33m[\u001b[0m\u001b[1;36m5\u001b[0m\u001b[1;33m]\u001b[0m\u001b[1;33m*\u001b[0m\u001b[0mtk\u001b[0m\u001b[1;33m*\u001b[0m\u001b[0mnp\u001b[0m\u001b[1;33m.\u001b[0m\u001b[0mexp\u001b[0m\u001b[1;33m(\u001b[0m\u001b[1;33m-\u001b[0m\u001b[0mtk\u001b[0m\u001b[1;33m*\u001b[0m\u001b[0mw\u001b[0m\u001b[1;33m[\u001b[0m\u001b[1;36m4\u001b[0m\u001b[1;33m]\u001b[0m\u001b[1;33m)\u001b[0m\u001b[1;33m\u001b[0m\u001b[1;33m\u001b[0m\u001b[0m\n\u001b[0;32m     15\u001b[0m         \u001b[0mgradF\u001b[0m\u001b[1;33m=\u001b[0m\u001b[0mgradF\u001b[0m\u001b[1;33m+\u001b[0m\u001b[0mgrad\u001b[0m\u001b[1;33m*\u001b[0m\u001b[0mfk\u001b[0m\u001b[1;33m\u001b[0m\u001b[1;33m\u001b[0m\u001b[0m\n",
      "\u001b[1;31mKeyboardInterrupt\u001b[0m: "
     ]
    }
   ],
   "source": [
    "w=np.array([1,0,0,1,1,1])\n",
    "gradiente2(w)\n",
    "wz=metodo_grad2(w,0.06)"
   ]
  },
  {
   "cell_type": "markdown",
   "metadata": {},
   "source": [
    "Este metodo con estos parametros dados converge a \n",
    "en la iteracion =  1568\n",
    "con funcion resultado 0.3113798275083455\n",
    "vector sol=([ 1.23989486e+00,  3.00030083e+05,  1.64573332e+00, -5.99191391e+02,\n",
    "        1.60813633e+00,  2.75146102e-02])\n"
   ]
  }
 ],
 "metadata": {
  "kernelspec": {
   "display_name": "Python 3",
   "language": "python",
   "name": "python3"
  },
  "language_info": {
   "codemirror_mode": {
    "name": "ipython",
    "version": 3
   },
   "file_extension": ".py",
   "mimetype": "text/x-python",
   "name": "python",
   "nbconvert_exporter": "python",
   "pygments_lexer": "ipython3",
   "version": "3.8.3"
  }
 },
 "nbformat": 4,
 "nbformat_minor": 5
}
