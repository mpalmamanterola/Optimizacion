{
 "cells": [
  {
   "cell_type": "markdown",
   "id": "4c475b90",
   "metadata": {},
   "source": [
    "## Pregunta 2\n",
    "**1.** Implemente el algoritmo de descenso del gradiente estocástico (SGD).\n",
    "\n",
    "**2.** Utilice su implementación de GD y de SGD para encontrar un punto optimal de la segunda\n",
    "función asignada a su grupo.\n",
    "\n",
    "**3.** Compare las soluciones obtenidas por cada algoritmo, y las diferencias en tiempo de ejecución\n",
    "de los mismos."
   ]
  },
  {
   "cell_type": "code",
   "execution_count": null,
   "id": "70864576",
   "metadata": {},
   "outputs": [],
   "source": []
  }
 ],
 "metadata": {
  "kernelspec": {
   "display_name": "Python 3",
   "language": "python",
   "name": "python3"
  },
  "language_info": {
   "codemirror_mode": {
    "name": "ipython",
    "version": 3
   },
   "file_extension": ".py",
   "mimetype": "text/x-python",
   "name": "python",
   "nbconvert_exporter": "python",
   "pygments_lexer": "ipython3",
   "version": "3.8.8"
  }
 },
 "nbformat": 4,
 "nbformat_minor": 5
}
