{
 "cells": [
  {
   "cell_type": "markdown",
   "metadata": {},
   "source": [
    "<center>\n",
    "    \n",
    "#   Optimización para Machine learning\n",
    "### Universidad de la Frontera\n",
    "### Facultad de Ingeniería y ciencias aplicadas\n",
    "### Minor de Análisis de Datos\n",
    "\n",
    "#### Juan Aedo, Matías Palma, Gustavo Soto, José Bustamante, Lucas Williamson"
   ]
  },
  {
   "cell_type": "markdown",
   "metadata": {},
   "source": [
    "#### Función 1\n",
    "$$n=10, m=n+2 $$\n",
    "\n",
    "$$f_k(w)=w_k-1,~~k=1,\\cdots, n $$\n",
    "\n",
    "$$f_{n+1}(w)=\\sum_{k=1}^n k(w_k-1) $$\n",
    "\n",
    "$$f_{n+2}(w)=\\left(\\sum_{k=1}^n k(w_k-1) \\right)^2$$"
   ]
  },
  {
   "cell_type": "markdown",
   "metadata": {},
   "source": [
    "#### Pregunta 1"
   ]
  },
  {
   "cell_type": "markdown",
   "metadata": {},
   "source": [
    "1. Implemente el algoritmo de descenso del gradiente.\n",
    "\n",
    "2. Utilice su implementacion del GD para encontrar un punto optimal de la primera función asignada a su grupo.\n",
    "\n",
    "3. Compare los resultados utilizando distintos puntos iniciales, y estime cuántas iteraciones necesita el algorimto para mejorar su resultado en un factor de 0.1"
   ]
  },
  {
   "cell_type": "code",
   "execution_count": 4,
   "metadata": {},
   "outputs": [],
   "source": [
    "n1 = 10\n",
    "m1 = n1+2"
   ]
  },
  {
   "cell_type": "code",
   "execution_count": 5,
   "metadata": {},
   "outputs": [],
   "source": [
    "import numpy as np\n",
    "\n",
    "def f1(w,k):\n",
    "    if len(w) != n1:\n",
    "        return('Error de dimensión')\n",
    "        \n",
    "    if k > m1:\n",
    "        return('Error de función, no existe f_'+str(k))\n",
    "        \n",
    "    if k < (n1+1):\n",
    "        return (w[k-1]-1)\n",
    "        \n",
    "    elif k == n1+1:\n",
    "        return (np.sum([i*(w[i-1]-1) for i in range(1,n1+1)]))\n",
    "        \n",
    "    elif k == n1+2:\n",
    "        return (np.sum([(i*(w[i-1]-1))**2 for i in range(1,n1+1)]))\n",
    "\n",
    "def F1(w):\n",
    "    suma = sum([f1(w,k)**2 for k in range(1,m1+1)])\n",
    "    return suma"
   ]
  },
  {
   "cell_type": "code",
   "execution_count": 6,
   "metadata": {},
   "outputs": [
    {
     "data": {
      "text/plain": [
       "10"
      ]
     },
     "execution_count": 6,
     "metadata": {},
     "output_type": "execute_result"
    }
   ],
   "source": [
    "w0=np.array([0,0,0,0,0,0,0,0,0,0])\n",
    "len(w0)"
   ]
  },
  {
   "cell_type": "code",
   "execution_count": 7,
   "metadata": {},
   "outputs": [],
   "source": [
    "n2 = 6\n",
    "m2 = 10000"
   ]
  },
  {
   "cell_type": "code",
   "execution_count": 8,
   "metadata": {},
   "outputs": [],
   "source": [
    "def f2(w,k):   \n",
    "    if len(w) != n2:\n",
    "        return('Error de dimensión')\n",
    "    \n",
    "    if k <= m2:\n",
    "        t = k*0.1\n",
    "        y = np.exp(-t)-5*np.exp(-10*t)+3*np.exp(-4*t)\n",
    "        \n",
    "        return(w[3] * np.exp(-t * w[0]) - w[3] * np.exp(-t * w[1]) + w[5] * np.exp(-t * w[4]) - y)\n",
    "\n",
    "def F2(w):\n",
    "    suma = sum([f2(w,k)**2 for k in range(1,m2+1)])\n",
    "    return suma"
   ]
  },
  {
   "cell_type": "code",
   "execution_count": 9,
   "metadata": {},
   "outputs": [
    {
     "data": {
      "text/plain": [
       "(10, 6)"
      ]
     },
     "execution_count": 9,
     "metadata": {},
     "output_type": "execute_result"
    }
   ],
   "source": [
    "w1 = [1,2,3,1,1,1,1,1,1,1]\n",
    "w2 = [1,2,3,4,5,6]\n",
    "len(w1),len(w2)"
   ]
  },
  {
   "cell_type": "code",
   "execution_count": 10,
   "metadata": {},
   "outputs": [
    {
     "data": {
      "text/plain": [
       "15.15470794940952"
      ]
     },
     "execution_count": 10,
     "metadata": {},
     "output_type": "execute_result"
    }
   ],
   "source": [
    "F2(w2)"
   ]
  },
  {
   "cell_type": "code",
   "execution_count": 11,
   "metadata": {},
   "outputs": [
    {
     "data": {
      "text/plain": [
       "1669"
      ]
     },
     "execution_count": 11,
     "metadata": {},
     "output_type": "execute_result"
    }
   ],
   "source": [
    "F1(w1)"
   ]
  },
  {
   "cell_type": "markdown",
   "metadata": {},
   "source": [
    "<center>\n",
    "    \n",
    "### Se calcula el gradiente de la siguiente forma\n",
    "$$\\nabla F_1(w)_k=2w_k-2+2k\\sum_{i=1}^n({iw_{i-1}-1})+4k\\left(\\sum_{i=1}^n{iw_{i-1}-1}\\right)^3 $$"
   ]
  },
  {
   "cell_type": "code",
   "execution_count": 12,
   "metadata": {},
   "outputs": [],
   "source": [
    "def gradiente1(wk): \n",
    "    sum1=0\n",
    "    for i in range (0,len(wk)):\n",
    "        sum1=sum1+(i+1)*(wk[i]-1)\n",
    "    for i in range(0,len(wk)):\n",
    "        grad[i]=(2*wk[i]-2)+2*(sum1)*(i+1)+4*((sum1)**3)*(i+1)\n",
    "    return grad"
   ]
  },
  {
   "cell_type": "code",
   "execution_count": 13,
   "metadata": {},
   "outputs": [
    {
     "data": {
      "text/plain": [
       "10"
      ]
     },
     "execution_count": 13,
     "metadata": {},
     "output_type": "execute_result"
    }
   ],
   "source": [
    "w1 = np.array([1,1,1,1,1,1,1,1,1,1])\n",
    "w1=w1*0.9\n",
    "len(w1)"
   ]
  },
  {
   "cell_type": "code",
   "execution_count": 14,
   "metadata": {},
   "outputs": [
    {
     "data": {
      "text/plain": [
       "array([ -676.7, -1353.2, -2029.7, -2706.2, -3382.7, -4059.2, -4735.7,\n",
       "       -5412.2, -6088.7, -6765.2])"
      ]
     },
     "execution_count": 14,
     "metadata": {},
     "output_type": "execute_result"
    }
   ],
   "source": [
    "gradiente1(w1)"
   ]
  },
  {
   "cell_type": "markdown",
   "metadata": {},
   "source": [
    "\n",
    "    \n",
    "#### Método del descenso del Gradiente\n",
    "\n",
    "Algoritmo en base a la iteración\n",
    "$$w_{k+1}=w_k-\\alpha\\nabla F_1(w_k)$$"
   ]
  },
  {
   "cell_type": "code",
   "execution_count": 15,
   "metadata": {},
   "outputs": [],
   "source": [
    "\n",
    "def metodo_grad(wk,a):\n",
    "    cont=0\n",
    "    gnorm=1\n",
    "    epsilon=0.01\n",
    "    while gnorm>epsilon:\n",
    "        wk=wk-a*gradiente1(wk)\n",
    "        gnorm=np.linalg.norm(gradiente1(wk))\n",
    "        cont=cont+1\n",
    "    print(\"Termino el metodo\")\n",
    "    print(\"En la iteracion = \",cont)\n",
    "    print(\"Con funcion resultado\", F1(wk))\n",
    "    return wk\n",
    "                "
   ]
  },
  {
   "cell_type": "code",
   "execution_count": 16,
   "metadata": {},
   "outputs": [
    {
     "name": "stdout",
     "output_type": "stream",
     "text": [
      "Termino el metodo\n",
      "en la iteracion =  3863617\n",
      "con funcion resultado 2.5193577958810196e-05\n"
     ]
    },
    {
     "data": {
      "text/plain": [
       "2.5193577958810196e-05"
      ]
     },
     "execution_count": 16,
     "metadata": {},
     "output_type": "execute_result"
    }
   ],
   "source": [
    "ws=metodo_grad(w1,0.000000437)\n",
    "F1(ws)\n"
   ]
  },
  {
   "cell_type": "markdown",
   "metadata": {},
   "source": [
    "El método sólo funciona para puntos iniciales entre $0.9$ y $1.1$ ya que para otros puntos el gradiente se dispara a numeros muy grandes.   \n",
    "\n",
    "El método tardó $2$ horas y $7755145$ iteraciones para llegar al minimo obvio, el vector $(1,1,1,...,1,1)$ con funcion objetivo $=0$"
   ]
  },
  {
   "cell_type": "code",
   "execution_count": null,
   "metadata": {},
   "outputs": [],
   "source": []
  }
 ],
 "metadata": {
  "kernelspec": {
   "display_name": "Python 3",
   "language": "python",
   "name": "python3"
  },
  "language_info": {
   "codemirror_mode": {
    "name": "ipython",
    "version": 3
   },
   "file_extension": ".py",
   "mimetype": "text/x-python",
   "name": "python",
   "nbconvert_exporter": "python",
   "pygments_lexer": "ipython3",
   "version": "3.8.3"
  }
 },
 "nbformat": 4,
 "nbformat_minor": 4
}
